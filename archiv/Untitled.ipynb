{
 "cells": [
  {
   "cell_type": "code",
   "execution_count": 2,
   "metadata": {},
   "outputs": [
    {
     "ename": "NameError",
     "evalue": "name 'hv' is not defined",
     "output_type": "error",
     "traceback": [
      "\u001b[0;31m---------------------------------------------------------------------------\u001b[0m",
      "\u001b[0;31mNameError\u001b[0m                                 Traceback (most recent call last)",
      "\u001b[0;32m<ipython-input-2-c97f5ef882c2>\u001b[0m in \u001b[0;36m<module>\u001b[0;34m()\u001b[0m\n\u001b[1;32m      8\u001b[0m \u001b[0mfirst\u001b[0m \u001b[0;34m=\u001b[0m \u001b[0mxr\u001b[0m\u001b[0;34m.\u001b[0m\u001b[0mopen_dataset\u001b[0m\u001b[0;34m(\u001b[0m\u001b[0;34m\"/home/max/Downloads/OS_NTAS_2007_D_T30min.nc\"\u001b[0m\u001b[0;34m)\u001b[0m\u001b[0;34m\u001b[0m\u001b[0m\n\u001b[1;32m      9\u001b[0m \u001b[0;34m\u001b[0m\u001b[0m\n\u001b[0;32m---> 10\u001b[0;31m \u001b[0mhv\u001b[0m\u001b[0;34m.\u001b[0m\u001b[0mextension\u001b[0m\u001b[0;34m(\u001b[0m\u001b[0;34m'bokeh'\u001b[0m\u001b[0;34m)\u001b[0m\u001b[0;34m\u001b[0m\u001b[0m\n\u001b[0m\u001b[1;32m     11\u001b[0m \u001b[0mfirst\u001b[0m\u001b[0;34m.\u001b[0m\u001b[0mTEMP\u001b[0m\u001b[0;34m.\u001b[0m\u001b[0msel\u001b[0m\u001b[0;34m(\u001b[0m\u001b[0;34m)\u001b[0m\u001b[0;34m.\u001b[0m\u001b[0mplot\u001b[0m\u001b[0;34m(\u001b[0m\u001b[0;34m)\u001b[0m\u001b[0;34m\u001b[0m\u001b[0m\n\u001b[1;32m     12\u001b[0m \u001b[0;34m\u001b[0m\u001b[0m\n",
      "\u001b[0;31mNameError\u001b[0m: name 'hv' is not defined"
     ]
    }
   ],
   "source": [
    "from bokeh.plotting import figure, output_file, show\n",
    "from bokeh.models import ColumnDataSource\n",
    "\n",
    "import pandas as pd\n",
    "import xarray as xr\n",
    "import matplotlib.pyplot as plt\n",
    "\n",
    "first = xr.open_dataset(\"/home/max/Downloads/OS_NTAS_2007_D_T30min.nc\")\n",
    "\n",
    "\n",
    "first.TEMP.sel().plot()\n",
    "\n"
   ]
  },
  {
   "cell_type": "code",
   "execution_count": 3,
   "metadata": {},
   "outputs": [
    {
     "name": "stdout",
     "output_type": "stream",
     "text": [
      "<xarray.Dataset>\n",
      "Dimensions:    (DEPTH: 1, LATITUDE: 1, LONGITUDE: 1, TIME: 6319)\n",
      "Coordinates:\n",
      "  * TIME       (TIME) datetime64[ns] 2008-11-11T06:00:00 ... 2009-02-07\n",
      "  * LATITUDE   (LATITUDE) float32 33.479168\n",
      "  * LONGITUDE  (LONGITUDE) float32 -122.53284\n",
      "  * DEPTH      (DEPTH) float32 18.0\n",
      "Data variables:\n",
      "    UCUR       (TIME, DEPTH, LATITUDE, LONGITUDE) float32 ...\n",
      "    UCUR_QC    (TIME, DEPTH, LATITUDE, LONGITUDE) int8 ...\n",
      "    VCUR       (TIME, DEPTH, LATITUDE, LONGITUDE) float32 ...\n",
      "    VCUR_QC    (TIME, DEPTH, LATITUDE, LONGITUDE) int8 ...\n",
      "    WCUR       (TIME, DEPTH, LATITUDE, LONGITUDE) float32 ...\n",
      "    WCUR_QC    (TIME, DEPTH, LATITUDE, LONGITUDE) int8 ...\n",
      "    CSPD       (TIME, DEPTH, LATITUDE, LONGITUDE) float32 ...\n",
      "    CSPD_QC    (TIME, DEPTH, LATITUDE, LONGITUDE) int8 ...\n",
      "    CDIR       (TIME, DEPTH, LATITUDE, LONGITUDE) float32 ...\n",
      "    CDIR_QC    (TIME, DEPTH, LATITUDE, LONGITUDE) int8 ...\n",
      "    HEADING    (TIME, DEPTH, LATITUDE, LONGITUDE) float32 ...\n",
      "    PITCH      (TIME, DEPTH, LATITUDE, LONGITUDE) float32 ...\n",
      "    ROLL       (TIME, DEPTH, LATITUDE, LONGITUDE) float32 ...\n",
      "    TEMP       (TIME, DEPTH, LATITUDE, LONGITUDE) float32 ...\n",
      "    TEMP_QC    (TIME, DEPTH, LATITUDE, LONGITUDE) int8 ...\n",
      "    PRES       (TIME, DEPTH, LATITUDE, LONGITUDE) float32 ...\n",
      "    PRES_QC    (TIME, DEPTH, LATITUDE, LONGITUDE) int8 ...\n",
      "Attributes:\n",
      "    site_code:                     CCE1\n",
      "    platform_code:                 CCE1\n",
      "    data_mode:                     D\n",
      "    principal_investigator:        Uwe Send\n",
      "    principal_investigator_email:  usend@ucsd.edu\n",
      "    institution:                   Scripps Institution of Oceanography\n",
      "    geospatial_lat_min:             33.4747\n",
      "    geospatial_lat_max:             33.4842\n",
      "    geospatial_lon_min:            -122.5376\n",
      "    geospatial_lon_max:            -122.5272\n",
      "    geospatial_vertical_min:          18.0\n",
      "    geospatial_vertical_max:          18.0\n",
      "    time_coverage_start:           2008-11-11T06:00:00Z\n",
      "    time_coverage_end:             2009-02-07T00:00:00Z\n",
      "    data_type:                     OceanSITES time-series data\n",
      "    area:                          Northeast Pacific\n",
      "    format_version:                1.3\n",
      "    netcdf_version:                4.0.1\n",
      "    publisher_name:                Hey-Jin Kim\n",
      "    publisher_email:               hjkim@ucsd.edu\n",
      "    update_interval:               yearly\n",
      "    publisher_url:                 http://mooring.ucsd.edu\n",
      "    license:                       Unless stated otherwise, a user must ackno...\n",
      "    date_created:                  2016-05-12T23:27:41Z\n",
      "    contributor_name:              Matthias Lankhorst\n",
      "    contributor_role:              Project Scientist\n",
      "    contubitor_email:              mlankhorst@ucsd.edu\n",
      "    QC_indicator:                  excellent\n"
     ]
    }
   ],
   "source": [
    "from bokeh.plotting import figure, output_file, show\n",
    "from bokeh.models import ColumnDataSource, ColorBar\n",
    "from bokeh.palettes import Spectral6\n",
    "from bokeh.transform import linear_cmap\n",
    "\n",
    "import pandas as pd\n",
    "import xarray as xr\n",
    "import matplotlib.pyplot as plt\n",
    "\n",
    "first = xr.open_dataset(\"/home/max/Downloads/OS_CCE1_01_D_AQUADOPP.nc\")\n",
    "print(first)"
   ]
  },
  {
   "cell_type": "code",
   "execution_count": 4,
   "metadata": {},
   "outputs": [
    {
     "name": "stdout",
     "output_type": "stream",
     "text": [
      "<xarray.Dataset>\n",
      "Dimensions:    (DEPTH: 1, LATITUDE: 1, LONGITUDE: 1, TIME: 6319)\n",
      "Coordinates:\n",
      "  * TIME       (TIME) datetime64[ns] 2008-11-11T06:00:00 ... 2009-02-07\n",
      "  * LATITUDE   (LATITUDE) float32 33.479168\n",
      "  * LONGITUDE  (LONGITUDE) float32 -122.53284\n",
      "  * DEPTH      (DEPTH) float32 18.0\n",
      "Data variables:\n",
      "    UCUR       (TIME, DEPTH, LATITUDE, LONGITUDE) float32 ...\n",
      "    UCUR_QC    (TIME, DEPTH, LATITUDE, LONGITUDE) int8 ...\n",
      "    VCUR       (TIME, DEPTH, LATITUDE, LONGITUDE) float32 ...\n",
      "    VCUR_QC    (TIME, DEPTH, LATITUDE, LONGITUDE) int8 ...\n",
      "    WCUR       (TIME, DEPTH, LATITUDE, LONGITUDE) float32 ...\n",
      "    WCUR_QC    (TIME, DEPTH, LATITUDE, LONGITUDE) int8 ...\n",
      "    CSPD       (TIME, DEPTH, LATITUDE, LONGITUDE) float32 ...\n",
      "    CSPD_QC    (TIME, DEPTH, LATITUDE, LONGITUDE) int8 ...\n",
      "    CDIR       (TIME, DEPTH, LATITUDE, LONGITUDE) float32 ...\n",
      "    CDIR_QC    (TIME, DEPTH, LATITUDE, LONGITUDE) int8 ...\n",
      "    HEADING    (TIME, DEPTH, LATITUDE, LONGITUDE) float32 ...\n",
      "    PITCH      (TIME, DEPTH, LATITUDE, LONGITUDE) float32 ...\n",
      "    ROLL       (TIME, DEPTH, LATITUDE, LONGITUDE) float32 ...\n",
      "    TEMP       (TIME, DEPTH, LATITUDE, LONGITUDE) float32 ...\n",
      "    TEMP_QC    (TIME, DEPTH, LATITUDE, LONGITUDE) int8 ...\n",
      "    PRES       (TIME, DEPTH, LATITUDE, LONGITUDE) float32 ...\n",
      "    PRES_QC    (TIME, DEPTH, LATITUDE, LONGITUDE) int8 ...\n",
      "Attributes:\n",
      "    site_code:                     CCE1\n",
      "    platform_code:                 CCE1\n",
      "    data_mode:                     D\n",
      "    principal_investigator:        Uwe Send\n",
      "    principal_investigator_email:  usend@ucsd.edu\n",
      "    institution:                   Scripps Institution of Oceanography\n",
      "    geospatial_lat_min:             33.4747\n",
      "    geospatial_lat_max:             33.4842\n",
      "    geospatial_lon_min:            -122.5376\n",
      "    geospatial_lon_max:            -122.5272\n",
      "    geospatial_vertical_min:          18.0\n",
      "    geospatial_vertical_max:          18.0\n",
      "    time_coverage_start:           2008-11-11T06:00:00Z\n",
      "    time_coverage_end:             2009-02-07T00:00:00Z\n",
      "    data_type:                     OceanSITES time-series data\n",
      "    area:                          Northeast Pacific\n",
      "    format_version:                1.3\n",
      "    netcdf_version:                4.0.1\n",
      "    publisher_name:                Hey-Jin Kim\n",
      "    publisher_email:               hjkim@ucsd.edu\n",
      "    update_interval:               yearly\n",
      "    publisher_url:                 http://mooring.ucsd.edu\n",
      "    license:                       Unless stated otherwise, a user must ackno...\n",
      "    date_created:                  2016-05-12T23:27:41Z\n",
      "    contributor_name:              Matthias Lankhorst\n",
      "    contributor_role:              Project Scientist\n",
      "    contubitor_email:              mlankhorst@ucsd.edu\n",
      "    QC_indicator:                  excellent\n"
     ]
    }
   ],
   "source": [
    "from bokeh.plotting import figure, output_file, show\n",
    "from bokeh.models import ColumnDataSource, ColorBar\n",
    "from bokeh.palettes import Spectral6\n",
    "from bokeh.transform import linear_cmap\n",
    "\n",
    "import pandas as pd\n",
    "import numpy as np\n",
    "import xarray as xr\n",
    "import holoviews as hv\n",
    "\n",
    "data = xr.open_dataset(\"/home/max/Downloads/OS_CCE1_01_D_AQUADOPP.nc\")\n",
    "print(data)"
   ]
  },
  {
   "cell_type": "code",
   "execution_count": 5,
   "metadata": {},
   "outputs": [
    {
     "data": {
      "text/plain": [
       ":Scatter   [TIME]   (PRES)"
      ]
     },
     "execution_count": 5,
     "metadata": {},
     "output_type": "execute_result"
    }
   ],
   "source": [
    "points = hv.Scatter(data, 'TIME','PRES')\n",
    "points"
   ]
  },
  {
   "cell_type": "code",
   "execution_count": null,
   "metadata": {},
   "outputs": [],
   "source": []
  }
 ],
 "metadata": {
  "kernelspec": {
   "display_name": "Python 3",
   "language": "python",
   "name": "python3"
  },
  "language_info": {
   "codemirror_mode": {
    "name": "ipython",
    "version": 3
   },
   "file_extension": ".py",
   "mimetype": "text/x-python",
   "name": "python",
   "nbconvert_exporter": "python",
   "pygments_lexer": "ipython3",
   "version": "3.5.2"
  }
 },
 "nbformat": 4,
 "nbformat_minor": 2
}
